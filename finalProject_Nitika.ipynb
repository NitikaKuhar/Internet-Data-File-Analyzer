{
 "cells": [
  {
   "cell_type": "markdown",
   "metadata": {},
   "source": [
    "# Data Analysis & Visualisation - Data Analyst Jobs in USA\n"
   ]
  },
  {
   "cell_type": "markdown",
   "metadata": {},
   "source": [
    "### Please make sure to follow all the instructions written and run code in sequential order."
   ]
  },
  {
   "cell_type": "code",
   "execution_count": null,
   "metadata": {},
   "outputs": [],
   "source": []
  },
  {
   "cell_type": "markdown",
   "metadata": {},
   "source": [
    "# Installing Packages and library needed to run the Project"
   ]
  },
  {
   "cell_type": "code",
   "execution_count": null,
   "metadata": {},
   "outputs": [],
   "source": []
  },
  {
   "cell_type": "code",
   "execution_count": 1,
   "metadata": {},
   "outputs": [
    {
     "name": "stdout",
     "output_type": "stream",
     "text": [
      "Requirement already up-to-date: pip in /Library/Frameworks/Python.framework/Versions/3.8/lib/python3.8/site-packages (20.2.3)\n",
      "Requirement already satisfied: kaggle in /Library/Frameworks/Python.framework/Versions/3.8/lib/python3.8/site-packages (1.5.8)\n",
      "Requirement already satisfied: python-dateutil in /Library/Frameworks/Python.framework/Versions/3.8/lib/python3.8/site-packages (from kaggle) (2.8.1)\n",
      "Requirement already satisfied: certifi in /Library/Frameworks/Python.framework/Versions/3.8/lib/python3.8/site-packages (from kaggle) (2020.6.20)\n",
      "Requirement already satisfied: python-slugify in /Library/Frameworks/Python.framework/Versions/3.8/lib/python3.8/site-packages (from kaggle) (4.0.1)\n",
      "Requirement already satisfied: urllib3<1.25,>=1.21.1 in /Library/Frameworks/Python.framework/Versions/3.8/lib/python3.8/site-packages (from kaggle) (1.24.3)\n",
      "Requirement already satisfied: slugify in /Library/Frameworks/Python.framework/Versions/3.8/lib/python3.8/site-packages (from kaggle) (0.0.1)\n",
      "Requirement already satisfied: requests in /Library/Frameworks/Python.framework/Versions/3.8/lib/python3.8/site-packages (from kaggle) (2.23.0)\n",
      "Requirement already satisfied: tqdm in /Library/Frameworks/Python.framework/Versions/3.8/lib/python3.8/site-packages (from kaggle) (4.48.2)\n",
      "Requirement already satisfied: six>=1.10 in /Library/Frameworks/Python.framework/Versions/3.8/lib/python3.8/site-packages (from kaggle) (1.14.0)\n",
      "Requirement already satisfied: text-unidecode>=1.3 in /Library/Frameworks/Python.framework/Versions/3.8/lib/python3.8/site-packages (from python-slugify->kaggle) (1.3)\n",
      "Requirement already satisfied: idna<3,>=2.5 in /Library/Frameworks/Python.framework/Versions/3.8/lib/python3.8/site-packages (from requests->kaggle) (2.9)\n",
      "Requirement already satisfied: chardet<4,>=3.0.2 in /Library/Frameworks/Python.framework/Versions/3.8/lib/python3.8/site-packages (from requests->kaggle) (3.0.4)\n",
      "Requirement already satisfied: numpy in /Library/Frameworks/Python.framework/Versions/3.8/lib/python3.8/site-packages (1.19.1)\n",
      "Requirement already satisfied: matplotlib in /Library/Frameworks/Python.framework/Versions/3.8/lib/python3.8/site-packages (3.3.1)\n",
      "Requirement already satisfied: kiwisolver>=1.0.1 in /Library/Frameworks/Python.framework/Versions/3.8/lib/python3.8/site-packages (from matplotlib) (1.2.0)\n",
      "Requirement already satisfied: pyparsing!=2.0.4,!=2.1.2,!=2.1.6,>=2.0.3 in /Library/Frameworks/Python.framework/Versions/3.8/lib/python3.8/site-packages (from matplotlib) (2.4.7)\n",
      "Requirement already satisfied: certifi>=2020.06.20 in /Library/Frameworks/Python.framework/Versions/3.8/lib/python3.8/site-packages (from matplotlib) (2020.6.20)\n",
      "Requirement already satisfied: cycler>=0.10 in /Library/Frameworks/Python.framework/Versions/3.8/lib/python3.8/site-packages (from matplotlib) (0.10.0)\n",
      "Requirement already satisfied: numpy>=1.15 in /Library/Frameworks/Python.framework/Versions/3.8/lib/python3.8/site-packages (from matplotlib) (1.19.1)\n",
      "Requirement already satisfied: python-dateutil>=2.1 in /Library/Frameworks/Python.framework/Versions/3.8/lib/python3.8/site-packages (from matplotlib) (2.8.1)\n",
      "Requirement already satisfied: pillow>=6.2.0 in /Library/Frameworks/Python.framework/Versions/3.8/lib/python3.8/site-packages (from matplotlib) (7.2.0)\n",
      "Requirement already satisfied: six in /Library/Frameworks/Python.framework/Versions/3.8/lib/python3.8/site-packages (from cycler>=0.10->matplotlib) (1.14.0)\n",
      "\u001b[31mERROR: Could not find a version that satisfies the requirement sqlite3 (from versions: none)\u001b[0m\n",
      "\u001b[31mERROR: No matching distribution found for sqlite3\u001b[0m\n"
     ]
    }
   ],
   "source": [
    "# Please make sure you have installed all these packages and library to run the project\n",
    "#You can either install through Jupyter Notebook or in terminal.\n",
    "\n",
    "! pip install --upgrade pip\n",
    "! pip install --user kaggle\n",
    "! pip install numpy\n",
    "! pip install matplotlib\n",
    "! pip install sqlite3"
   ]
  },
  {
   "cell_type": "code",
   "execution_count": null,
   "metadata": {},
   "outputs": [],
   "source": []
  },
  {
   "cell_type": "markdown",
   "metadata": {},
   "source": [
    "# Importing the library needed for the project"
   ]
  },
  {
   "cell_type": "code",
   "execution_count": 2,
   "metadata": {},
   "outputs": [],
   "source": [
    "# storing cleaned data in sqlite\n",
    "import csv \n",
    "import os\n",
    "import numpy as np\n",
    "import math\n",
    "\n",
    "import sqlite3\n",
    "from sqlite3 import Error\n",
    "\n",
    "# plots and graph\n",
    "from matplotlib import pyplot as plt\n",
    "\n",
    "import kaggle\n"
   ]
  },
  {
   "cell_type": "code",
   "execution_count": null,
   "metadata": {},
   "outputs": [],
   "source": []
  },
  {
   "cell_type": "markdown",
   "metadata": {},
   "source": [
    "# Declaration of variables"
   ]
  },
  {
   "cell_type": "code",
   "execution_count": null,
   "metadata": {},
   "outputs": [],
   "source": []
  },
  {
   "cell_type": "code",
   "execution_count": 3,
   "metadata": {},
   "outputs": [],
   "source": [
    "current_dir = os.getcwd()\n",
    "folder_name = 'data'\n",
    "save_image = 'img'\n",
    "json_folder = 'json'\n",
    "filename = f'{current_dir}/{folder_name}/DataAnalyst.csv'\n",
    "\n",
    "\n",
    "# actual columns in csv file \n",
    "column_map = {\n",
    "    ' ': 0,\n",
    "    'Job Title' : 1,\n",
    "    'Salary Estimate' : 2,\n",
    "    'Job Description': 3,\n",
    "    'Rating': 4,\n",
    "    'Company Name':5,\n",
    "    'Location':6,                   \n",
    "    'Headquarters':7, \n",
    "    'Size': 8,\n",
    "    'Founded': 9,\n",
    "    'Type of ownership': 10,\n",
    "    'Industry': 11, \n",
    "    'Sector': 12, \n",
    "    'Revenue':13, \n",
    "    'Compeititors':14, \n",
    "    'Easy Apply':15\n",
    "}\n",
    "\n",
    "\n",
    "columns_to_be_cleaned = [column_map['Rating'],column_map['Headquarters'],column_map['Size'],column_map['Founded'],column_map['Type of ownership'],\n",
    "                         column_map['Industry'], column_map['Sector'], column_map['Revenue'], column_map['Compeititors'],\n",
    "                         column_map['Easy Apply'], column_map['Job Description']\n",
    "                        ]\n",
    "\n",
    "rows_to_store_in_db = 2250\n",
    "\n",
    "unknown_value = ['-1', '0' ,'Unknown' , '-1.0' ,'Unknown / Non-Applicable','1']\n",
    "\n",
    "table_name = 'dataAnalystJob'"
   ]
  },
  {
   "cell_type": "code",
   "execution_count": null,
   "metadata": {},
   "outputs": [],
   "source": []
  },
  {
   "cell_type": "markdown",
   "metadata": {},
   "source": [
    "## Download CSV File from Kaggle.com on local machine using kaggle.api()\n",
    "       Please follow the instruction to download file:\n",
    "           1) download the API Key json file from you kaggle account (Already downloaded and placed in json folder) \n",
    "           \n",
    "            (If you want to download your own API key JSON file , first create the account on kaggle site and then from profile                   section create a new API key and put that JSON file under json folder.)\n",
    "            \n",
    "            The below setps will be done using the code, you dont need to do anything else, just run the cell.\n",
    "           2) create a directory in ~/.kaggle\n",
    "           3) Move the kaggle.json file to  ~/.kaggle/kaggle.json\n",
    "           4) Using kaggle.api() download the file, for details see function download_csv()\n",
    "           \n",
    "           For more details: https://github.com/Kaggle/kaggle-api"
   ]
  },
  {
   "cell_type": "code",
   "execution_count": null,
   "metadata": {},
   "outputs": [],
   "source": []
  },
  {
   "cell_type": "code",
   "execution_count": 4,
   "metadata": {},
   "outputs": [],
   "source": [
    "#change the permission for users : \n",
    "#Permissions of 600 mean that the owner has full read and write access to the file, \n",
    "#while no other user can access the file\n",
    "def encode_json_file():\n",
    "    ! chmod 600 $json_folder/kaggle.json\n",
    "\n",
    "# create a directoy in user folder\n",
    "def create_kaggle_folder():\n",
    "    encode_json_file()\n",
    "    ! mkdir ~/.kaggle\n",
    "\n",
    "# move the kaggle.json folder to the above created folder\n",
    "def move_json_file():\n",
    "    ! mv $json_folder/kaggle.json  ~/.kaggle/kaggle.json\n",
    "    print(\"File moved !!\")\n",
    "    "
   ]
  },
  {
   "cell_type": "code",
   "execution_count": null,
   "metadata": {},
   "outputs": [],
   "source": []
  },
  {
   "cell_type": "code",
   "execution_count": 5,
   "metadata": {},
   "outputs": [
    {
     "name": "stdout",
     "output_type": "stream",
     "text": [
      "mkdir: /Users/nitikakuhar/.kaggle: File exists\n"
     ]
    }
   ],
   "source": [
    "create_kaggle_folder()"
   ]
  },
  {
   "cell_type": "code",
   "execution_count": null,
   "metadata": {},
   "outputs": [],
   "source": []
  },
  {
   "cell_type": "code",
   "execution_count": 6,
   "metadata": {},
   "outputs": [
    {
     "name": "stdout",
     "output_type": "stream",
     "text": [
      "File moved !!\n"
     ]
    }
   ],
   "source": [
    "move_json_file()"
   ]
  },
  {
   "cell_type": "code",
   "execution_count": null,
   "metadata": {},
   "outputs": [],
   "source": []
  },
  {
   "cell_type": "code",
   "execution_count": null,
   "metadata": {},
   "outputs": [],
   "source": [
    "# we are not using this function to download file, although we can download using this.\n",
    "# This function bascially download file using kaggle CLI\n",
    "\n",
    "#def download_dataset():\n",
    "    #create_kaggle_folder()\n",
    "    #move_json_file()\n",
    "    #encode_json_file()\n",
    "    \n",
    "    #! kaggle datasets download  andrewmvd/data-analyst-jobs --unzip -f DataAnalyst.csv "
   ]
  },
  {
   "cell_type": "code",
   "execution_count": null,
   "metadata": {},
   "outputs": [],
   "source": []
  },
  {
   "cell_type": "code",
   "execution_count": 9,
   "metadata": {},
   "outputs": [],
   "source": [
    "def download_csv():\n",
    "    print(\"File Downloading ...\")\n",
    "    kaggle.api.authenticate()\n",
    "    d = kaggle.api.dataset_download_files(dataset=\"andrewmvd/data-analyst-jobs\", path = folder_name,unzip=True)\n",
    "    print(\"File Downloaded in folder data/!! Please Refresh Folder. Thank You\")"
   ]
  },
  {
   "cell_type": "code",
   "execution_count": null,
   "metadata": {},
   "outputs": [],
   "source": []
  },
  {
   "cell_type": "code",
   "execution_count": 10,
   "metadata": {},
   "outputs": [
    {
     "name": "stdout",
     "output_type": "stream",
     "text": [
      "File Downloading ...\n",
      "File Downloaded in folder data/!! Please Refresh Folder. Thank You\n"
     ]
    }
   ],
   "source": [
    "download_csv()"
   ]
  },
  {
   "cell_type": "code",
   "execution_count": null,
   "metadata": {},
   "outputs": [],
   "source": []
  },
  {
   "cell_type": "code",
   "execution_count": null,
   "metadata": {},
   "outputs": [],
   "source": [
    "# If the dataset failed to download, please copy the DataAnalyst.csv file from current folder to data folder"
   ]
  },
  {
   "cell_type": "markdown",
   "metadata": {},
   "source": [
    "# Creating connection with database"
   ]
  },
  {
   "cell_type": "code",
   "execution_count": null,
   "metadata": {},
   "outputs": [],
   "source": []
  },
  {
   "cell_type": "code",
   "execution_count": 11,
   "metadata": {},
   "outputs": [],
   "source": [
    "# create database\n",
    "def sql_connection():\n",
    "    try:\n",
    "        conn = sqlite3.connect('dataAnalystJobProject.db')\n",
    "        print(\"Connection is established !!\")\n",
    "        return conn\n",
    "    except Error:\n",
    "        print(\"Erroe while connecting with database: \", Error)"
   ]
  },
  {
   "cell_type": "code",
   "execution_count": null,
   "metadata": {},
   "outputs": [],
   "source": []
  },
  {
   "cell_type": "code",
   "execution_count": null,
   "metadata": {},
   "outputs": [],
   "source": []
  },
  {
   "cell_type": "code",
   "execution_count": 12,
   "metadata": {},
   "outputs": [],
   "source": [
    "#create table \n",
    "def create_sql_table(conn):\n",
    "    #create cursor object, to excute methods\n",
    "    cursor_obj = conn.cursor()\n",
    "    \n",
    "    create_query = '''CREATE TABLE dataAnalystJob (id integer PRIMARY KEY,  job_title VARCHAR, min_salary integer, max_salary integer,\n",
    "                        rating float, company_name VARCHAR,location_city VARCHAR,\n",
    "                        location_state VARCHAR,headquarters VARCHAR, size VARCHAR, founded VARCHAR , type_of_ownership VARCHAR, \n",
    "                        industry VARCHAR, sector VARCHAR, competitors VARCHAR, easy_apply VARCHAR)'''\n",
    "    \n",
    "    cursor_obj.execute(create_query)\n",
    "    \n",
    "    conn.commit()\n",
    "    print(\"Table created in database..!!\")"
   ]
  },
  {
   "cell_type": "code",
   "execution_count": null,
   "metadata": {},
   "outputs": [],
   "source": []
  },
  {
   "cell_type": "code",
   "execution_count": null,
   "metadata": {},
   "outputs": [],
   "source": []
  },
  {
   "cell_type": "code",
   "execution_count": 13,
   "metadata": {},
   "outputs": [],
   "source": [
    "# close connection\n",
    "def close_database_connection(conn):\n",
    "    conn.close()\n",
    "    print(\"Database connection closed!\")"
   ]
  },
  {
   "cell_type": "code",
   "execution_count": null,
   "metadata": {},
   "outputs": [],
   "source": []
  },
  {
   "cell_type": "code",
   "execution_count": null,
   "metadata": {},
   "outputs": [],
   "source": []
  },
  {
   "cell_type": "code",
   "execution_count": 14,
   "metadata": {},
   "outputs": [
    {
     "name": "stdout",
     "output_type": "stream",
     "text": [
      "Connection is established !!\n"
     ]
    }
   ],
   "source": [
    "# creating database 'dataAnalystJobProject' and connection\n",
    "conn = sql_connection()"
   ]
  },
  {
   "cell_type": "code",
   "execution_count": null,
   "metadata": {},
   "outputs": [],
   "source": []
  },
  {
   "cell_type": "code",
   "execution_count": null,
   "metadata": {},
   "outputs": [],
   "source": []
  },
  {
   "cell_type": "code",
   "execution_count": 15,
   "metadata": {},
   "outputs": [
    {
     "name": "stdout",
     "output_type": "stream",
     "text": [
      "Table created in database..!!\n"
     ]
    }
   ],
   "source": [
    "# creating table in database\n",
    "create_sql_table(conn)"
   ]
  },
  {
   "cell_type": "code",
   "execution_count": null,
   "metadata": {},
   "outputs": [],
   "source": []
  },
  {
   "cell_type": "code",
   "execution_count": null,
   "metadata": {},
   "outputs": [],
   "source": []
  },
  {
   "cell_type": "code",
   "execution_count": 19,
   "metadata": {},
   "outputs": [],
   "source": [
    "#insert rows in table\n",
    "def insert_data_in_table(conn, values):\n",
    "    \n",
    "    cursor_obj = conn.cursor()\n",
    "    \n",
    "    insert_query = f'''INSERT INTO dataAnalystJob ( id, job_title, min_salary, max_salary, rating, company_name, \n",
    "                    location_city, location_state, headquarters, size, founded, type_of_ownership, industry, sector, \n",
    "                    competitors, easy_apply)\n",
    "                    VALUES(?, ?, ?, ?, ?, ?, ?, ?, ?, ?, ?, ?, ?, ?, ?, ?)\n",
    "                '''\n",
    "    \n",
    "    cursor_obj.execute(insert_query, values)\n",
    "    \n",
    "    conn.commit()"
   ]
  },
  {
   "cell_type": "code",
   "execution_count": null,
   "metadata": {},
   "outputs": [],
   "source": []
  },
  {
   "cell_type": "markdown",
   "metadata": {},
   "source": [
    "# Functions for data cleaning"
   ]
  },
  {
   "cell_type": "code",
   "execution_count": null,
   "metadata": {},
   "outputs": [],
   "source": []
  },
  {
   "cell_type": "code",
   "execution_count": 18,
   "metadata": {},
   "outputs": [],
   "source": [
    "# split salary into minimum and maximun salary\n",
    "def split_salary_column(sal):\n",
    "    s = []\n",
    "    K = 1000\n",
    "    sal = sal.split('-')\n",
    "    \n",
    "    min_sal = (sal[0])\n",
    "    if(min_sal.endswith('K')):\n",
    "        min_sal = min_sal[1:len(min_sal)]\n",
    "        min_sal = int(min_sal[0:len(min_sal) - 1]) * K\n",
    "    else:\n",
    "        min_sal = None\n",
    "    \n",
    "    if(len(sal[1].split()) > 1):\n",
    "        \n",
    "        max_sal = ((sal[1]).split())[0]\n",
    "        max_sal = max_sal[1:len(max_sal)]\n",
    "        max_sal = int(max_sal[0:len(max_sal) - 1]) * K\n",
    "    else: \n",
    "        max_sal = None\n",
    "        \n",
    "    s.extend([min_sal, max_sal])\n",
    "    return s\n",
    "\n",
    "##############################################################################################################\n",
    "# removing ratings from company name \n",
    "def remove_rating_from_company_name(c_name):\n",
    "    c_name = c_name.split(\"\\n\")\n",
    "    return c_name[0]\n",
    "    \n",
    "    \n",
    "##############################################################################################################\n",
    "# if value is -1 then replaced it with None\n",
    "def clean_unknown_col_values(val):\n",
    "    if val in unknown_value:\n",
    "        return None\n",
    "    else:\n",
    "        return val\n",
    "\n",
    "##############################################################################################################    \n",
    "\n",
    "def split_location_in_city_state(location):\n",
    "    location = location.split(',')\n",
    "    return location\n",
    "\n",
    "##############################################################################################################\n",
    "\n",
    "def convert_rating(rating):\n",
    "    r = float(rating)\n",
    "    if(r > 0):\n",
    "        return r\n",
    "    else:\n",
    "        return None\n",
    "    \n",
    "##############################################################################################################\n",
    "\n",
    "def remove_employee_from_size(val):\n",
    "    if val in unknown_value:\n",
    "        return None\n",
    "    else:\n",
    "        return val.split(' e')[0]\n",
    "\n",
    "##############################################################################################################\n",
    "\n",
    "def clean_type_of_ownership(val):\n",
    "    \n",
    "    if val in unknown_value:\n",
    "        val = None\n",
    "    else:\n",
    "        \n",
    "        val = val.split('-')\n",
    "        if len(val) > 1:\n",
    "            val = val[1].strip()\n",
    "        else : \n",
    "            val = val[0].strip()\n",
    "        \n",
    "    return val"
   ]
  },
  {
   "cell_type": "code",
   "execution_count": null,
   "metadata": {},
   "outputs": [],
   "source": []
  },
  {
   "cell_type": "markdown",
   "metadata": {},
   "source": [
    "# Inserting records in database after Cleaning"
   ]
  },
  {
   "cell_type": "code",
   "execution_count": null,
   "metadata": {},
   "outputs": [],
   "source": []
  },
  {
   "cell_type": "code",
   "execution_count": 20,
   "metadata": {},
   "outputs": [],
   "source": [
    "# cleaning data and storing in new array.\n",
    "def data_cleaning():\n",
    "    print(f\"Data cleaning for {rows_to_store_in_db} rows started...\\n\")\n",
    "    with open(filename, 'r',) as file:\n",
    "        reader = csv.reader(file, delimiter=',')\n",
    "    \n",
    "        headers = next(reader)\n",
    " \n",
    "        data = np.array(list(reader)).astype(str)\n",
    "    \n",
    "        print(f\"Data cleaning in process, Please wait for a while...\\n\")\n",
    "        for row_num in range(0,len(data)):\n",
    "        \n",
    "            if row_num <= rows_to_store_in_db:\n",
    "                row_value = data[row_num]\n",
    "                row = []\n",
    "                for col in range(0,len(row_value)):\n",
    "                    r = row_value\n",
    "                    if col == 0:\n",
    "                        row.append(int(r[col]))\n",
    "                    \n",
    "                    elif col in columns_to_be_cleaned:\n",
    "                        \n",
    "                        if col == column_map['Rating']:\n",
    "                            r[col] = convert_rating(r[col])\n",
    "                            \n",
    "                        elif col == column_map['Size']:\n",
    "                            r[col] = remove_employee_from_size(r[col])\n",
    "                            \n",
    "                        elif col == column_map['Job Description']:\n",
    "                            # do nothing just skip the row  \n",
    "                            pass\n",
    "                        elif col == column_map['Revenue']:\n",
    "                            # do nothing just skip the row  \n",
    "                            pass\n",
    "                        elif col == column_map['Type of ownership']:\n",
    "                            r[col] = clean_type_of_ownership(r[col])\n",
    "                        else:\n",
    "                            r[col] = clean_unknown_col_values(r[col])\n",
    "                        \n",
    "                        row.append(r[col])\n",
    "                        \n",
    "                    elif col == column_map['Job Title']:\n",
    "                        title = r[col].split(',')[0]\n",
    "                        row.append(title)\n",
    "                        \n",
    "                    elif col == column_map['Salary Estimate']:\n",
    "                        sal = split_salary_column(r[col])\n",
    "                        row.append(sal[0])\n",
    "                        row.append(sal[1])\n",
    "                        \n",
    "                    elif col == column_map['Company Name']:\n",
    "                        c_name = remove_rating_from_company_name(r[col])\n",
    "                        row.append(c_name)\n",
    "                                   \n",
    "                    elif col == column_map['Location']:\n",
    "                        loc = split_location_in_city_state(r[col])\n",
    "                        row.append(loc[0].strip())  \n",
    "                        row.append(loc[1].strip())\n",
    "                    else:\n",
    "                        row.append(r[col])\n",
    "                row.pop(4)  # to remove the job description column  \n",
    "                row.pop(15) # to remove the revenue column\n",
    "                \n",
    "                #inserting rows in table one by one\n",
    "                insert_data_in_table(conn,row)\n",
    "        \n",
    "    print(f\"{rows_to_store_in_db} rows cleaned and stored in database\")\n",
    "    \n",
    "    # closing the connection\n",
    "    close_database_connection(conn)"
   ]
  },
  {
   "cell_type": "code",
   "execution_count": null,
   "metadata": {},
   "outputs": [],
   "source": []
  },
  {
   "cell_type": "code",
   "execution_count": 21,
   "metadata": {},
   "outputs": [
    {
     "name": "stdout",
     "output_type": "stream",
     "text": [
      "Data cleaning for 2250 rows started...\n",
      "\n",
      "Data cleaning in process, Please wait for a while...\n",
      "\n",
      "2250 rows cleaned and stored in database\n",
      "Database connection closed!\n"
     ]
    }
   ],
   "source": [
    "data_cleaning()"
   ]
  },
  {
   "cell_type": "code",
   "execution_count": null,
   "metadata": {},
   "outputs": [],
   "source": []
  },
  {
   "cell_type": "markdown",
   "metadata": {},
   "source": [
    "# Data Analysis and Visualisations Functions:"
   ]
  },
  {
   "cell_type": "markdown",
   "metadata": {},
   "source": [
    "### Set color for bars :\n",
    "        It takes 2 parameter (list of bars, color)\n"
   ]
  },
  {
   "cell_type": "code",
   "execution_count": 22,
   "metadata": {},
   "outputs": [],
   "source": [
    "def set_color_for_graph(bar_list, color):\n",
    "    \n",
    "    for key in range(0,len(bar_list)):\n",
    "        bar_list[key].set_color(color)\n",
    "        "
   ]
  },
  {
   "cell_type": "code",
   "execution_count": null,
   "metadata": {},
   "outputs": [],
   "source": []
  },
  {
   "cell_type": "markdown",
   "metadata": {},
   "source": [
    "### Set label for bars :\n",
    "        It takes 2 parameter (list of bars, the instance of subplot)\n",
    "       "
   ]
  },
  {
   "cell_type": "code",
   "execution_count": 23,
   "metadata": {},
   "outputs": [],
   "source": [
    "def autolabel(bars,ax):\n",
    "    for bar in bars:\n",
    "        h = bar.get_height()\n",
    "        ax.text(bar.get_x()+bar.get_width()/2., 1*h, '%d'%int(h),\n",
    "                ha='center', va='bottom')"
   ]
  },
  {
   "cell_type": "code",
   "execution_count": null,
   "metadata": {},
   "outputs": [],
   "source": []
  },
  {
   "cell_type": "markdown",
   "metadata": {},
   "source": [
    "### Set points for graph plotting :\n",
    "        It takes 9 parameters (records : to get the value for x_axis and y_axix, \n",
    "                                key for x axis, key for y axis, title, x axis label, y axis labe,\n",
    "                                name for the image file, y2 axix value, legend text array\n",
    "                                )"
   ]
  },
  {
   "cell_type": "code",
   "execution_count": null,
   "metadata": {},
   "outputs": [],
   "source": []
  },
  {
   "cell_type": "code",
   "execution_count": 24,
   "metadata": {},
   "outputs": [],
   "source": [
    "def set_points_for_graph(records, x_axis_key, y_axis_key, title, x_label, y_label, img_filename,y2_axis_key, legend_text_arr):\n",
    "    \n",
    "    x_axis_points = []\n",
    "    y_axis_points = []\n",
    "    y2_axis_points = []\n",
    "    for index in range(0,len(records)):\n",
    "        r = list(records[index])\n",
    "        \n",
    "        for key in range(0,len(r)):\n",
    "            if key == x_axis_key:\n",
    "                x_axis_points.append(r[key])\n",
    "                \n",
    "            if key == y_axis_key:\n",
    "                y_axis_points.append(r[key])\n",
    "            \n",
    "            if y2_axis_key and key == y2_axis_key:\n",
    "                y2_axis_points.append(r[key])\n",
    "\n",
    "    plot_graph(x_axis_points, y_axis_points,title, x_label, y_label, img_filename,y2_axis_points, legend_text_arr)\n",
    "    "
   ]
  },
  {
   "cell_type": "code",
   "execution_count": null,
   "metadata": {},
   "outputs": [],
   "source": []
  },
  {
   "cell_type": "markdown",
   "metadata": {},
   "source": [
    "### Graph Plotting function:\n",
    "        It takes 8 parameters (x coordinates, y coordinates,title for graph, x label , y label, image file name, \n",
    "        y2 axis array, legend text array)"
   ]
  },
  {
   "cell_type": "code",
   "execution_count": null,
   "metadata": {},
   "outputs": [],
   "source": []
  },
  {
   "cell_type": "code",
   "execution_count": 25,
   "metadata": {},
   "outputs": [],
   "source": [
    "def plot_graph(x_axis, y1_axis, title, x_label, y_label, img_filename, y2_axis, legend_text_arr):\n",
    "    \n",
    " \n",
    "    N = len(y1_axis)\n",
    "    ind = np.arange(N)\n",
    "    width = 0.45\n",
    "    bar_lst = []\n",
    "    legend_text = []\n",
    "    \n",
    "    # Initialize a Figure \n",
    "    fig = plt.figure(figsize=(20,10)) # plt.figure(figsize=(width,height))\n",
    "    \n",
    "    plot_graph = fig.add_subplot(111)\n",
    "    \n",
    "    if len(y2_axis):\n",
    "        w = width\n",
    "        \n",
    "        bar_one = plot_graph.bar(ind-w,y1_axis, width)\n",
    "        autolabel(bar_one, plot_graph)\n",
    "        set_color_for_graph(bar_one,'y')\n",
    "        \n",
    "        \n",
    "        bar_two = plot_graph.bar(ind,y2_axis, width)\n",
    "        set_color_for_graph(bar_two,'green')\n",
    "        autolabel(bar_two, plot_graph)\n",
    "        \n",
    "        \n",
    "        plot_graph.set_xticks(ind-0.2)\n",
    "        bar_lst.extend([bar_one[0],bar_two[0]])\n",
    "        \n",
    "        legend_text.extend([legend_text_arr[0], legend_text_arr[1]])\n",
    "  \n",
    "        \n",
    "    else:\n",
    "        w = 0\n",
    "        \n",
    "        bar_one = plot_graph.bar(ind-w,y1_axis, width) # inorder to customise the bar width\n",
    "        \n",
    "        set_color_for_graph(bar_one,'y')\n",
    "        \n",
    "        autolabel(bar_one, plot_graph)\n",
    "        \n",
    "        \n",
    "        plot_graph.set_xticks(ind)\n",
    "        \n",
    "        bar_lst.append(bar_one[0])\n",
    "        legend_text.append(legend_text_arr)\n",
    "        \n",
    "        \n",
    "    \n",
    "    plot_graph.set_title(title, fontweight='bold', fontsize='10', loc='right')\n",
    "    plot_graph.set_xlabel(x_label, fontweight='bold', fontsize='15')\n",
    "    plot_graph.set_ylabel(y_label, fontweight='bold', fontsize='15')\n",
    "    \n",
    "    \n",
    "    plot_graph.legend( (bar_lst), (legend_text_arr))\n",
    "    \n",
    "\n",
    "    \n",
    "    xTickMarks = x_axis\n",
    "    \n",
    "    xtickNames = plot_graph.set_xticklabels(xTickMarks)\n",
    "    \n",
    "    plt.setp(xtickNames, rotation=90, fontsize=12)\n",
    "     \n",
    "    # to save image inside folder img/\n",
    "    plt.savefig(f'{save_image}/{img_filename}.png',transparent=True, bbox_inches='tight', pad_inches=0.3)\n",
    "    \n",
    "    # Show the plot\n",
    "    plt.show()\n",
    "    "
   ]
  },
  {
   "cell_type": "code",
   "execution_count": null,
   "metadata": {},
   "outputs": [],
   "source": []
  },
  {
   "cell_type": "markdown",
   "metadata": {},
   "source": [
    "### Print data in tabular format :\n",
    "        It takes 2 parameters (column header name, rows)"
   ]
  },
  {
   "cell_type": "code",
   "execution_count": null,
   "metadata": {},
   "outputs": [],
   "source": []
  },
  {
   "cell_type": "code",
   "execution_count": 26,
   "metadata": {},
   "outputs": [],
   "source": [
    "# print data in tabular\n",
    "def print_data_for_tier_two_analysis(header_data, row_data):   \n",
    "    \n",
    "    dash = '-' * 120\n",
    "    print(dash,\"\\n\")\n",
    "    \n",
    "    \n",
    "    if len(header_data) > 2:\n",
    "        format_table_header = \"{:<25s}\"\n",
    "        format_table_row = \"{:<30}\"\n",
    "    else:\n",
    "        format_table_header = \"{:>25s}\"\n",
    "        format_table_row = \"{:>30}\"\n",
    "    \n",
    "    for h in header_data:\n",
    "        print(format_table_header.format(h), end =\"\\t \")\n",
    "    \n",
    "    print(\"\\n\")\n",
    "    print(dash)\n",
    "    print(\"\\n\") \n",
    "\n",
    "    # To print rows\n",
    "    for r in range(0,len(row_data)):\n",
    "        \n",
    "        col = row_data[r]\n",
    "        \n",
    "        for c in range(0,len(col)):\n",
    "            print(format_table_row.format(col[c]), end =\"\\t\")\n",
    "        \n",
    "        print(\"\\n\")"
   ]
  },
  {
   "cell_type": "code",
   "execution_count": null,
   "metadata": {},
   "outputs": [],
   "source": []
  },
  {
   "cell_type": "markdown",
   "metadata": {},
   "source": [
    "# Tier 1 Analysis"
   ]
  },
  {
   "cell_type": "markdown",
   "metadata": {},
   "source": [
    "### Print  data in tabular format for tier 1 analysis:"
   ]
  },
  {
   "cell_type": "code",
   "execution_count": 27,
   "metadata": {},
   "outputs": [],
   "source": [
    "def print_tier_one_analysis(header_data, row_data):\n",
    "    dash = '-' * 50\n",
    "    row = list(row_data[0])\n",
    "    print(dash,\"\\n\")\n",
    "    \n",
    "    print(\"{:<25}\".format(header_data[0]), end =\"\\n\")\n",
    "    \n",
    "    print(dash,\"\\n\")\n",
    "    \n",
    "    print(\"{:<25}\".format(row[0]), end =\"\\n\")"
   ]
  },
  {
   "cell_type": "code",
   "execution_count": null,
   "metadata": {},
   "outputs": [],
   "source": []
  },
  {
   "cell_type": "markdown",
   "metadata": {},
   "source": [
    "### Total number of Data Analyst Jobs In USA :"
   ]
  },
  {
   "cell_type": "code",
   "execution_count": null,
   "metadata": {},
   "outputs": [],
   "source": []
  },
  {
   "cell_type": "code",
   "execution_count": 28,
   "metadata": {},
   "outputs": [],
   "source": [
    "def get_total_number_of_jobs():\n",
    "    conn = sql_connection()\n",
    "    \n",
    "    select_query = f'''SELECT COUNT(job_title) as total_nums_of_job \n",
    "                        FROM {table_name};\n",
    "                    '''\n",
    "    \n",
    "    cursor_obj = conn.cursor()\n",
    "    \n",
    "    cursor_obj.execute(select_query)\n",
    "    \n",
    "    rows = cursor_obj.fetchall()\n",
    "    \n",
    "    close_database_connection(conn)\n",
    "    \n",
    "    \n",
    "    #print data in tabular form\n",
    "    print(\"\\n\\n************** Tabular Representation ***************** \\n\\n\")\n",
    "    header_data = ['Total Data Analyst Related Jobs']\n",
    "    print_tier_one_analysis(header_data, rows)\n",
    " \n",
    "    "
   ]
  },
  {
   "cell_type": "code",
   "execution_count": 29,
   "metadata": {},
   "outputs": [
    {
     "name": "stdout",
     "output_type": "stream",
     "text": [
      "Connection is established !!\n",
      "Database connection closed!\n",
      "\n",
      "\n",
      "************** Tabular Representation ***************** \n",
      "\n",
      "\n",
      "-------------------------------------------------- \n",
      "\n",
      "Total Data Analyst Related Jobs\n",
      "-------------------------------------------------- \n",
      "\n",
      "2251                     \n"
     ]
    }
   ],
   "source": [
    "get_total_number_of_jobs()"
   ]
  },
  {
   "cell_type": "code",
   "execution_count": null,
   "metadata": {},
   "outputs": [],
   "source": []
  },
  {
   "cell_type": "markdown",
   "metadata": {},
   "source": [
    "### Total Number of company currently open for hiring"
   ]
  },
  {
   "cell_type": "code",
   "execution_count": null,
   "metadata": {},
   "outputs": [],
   "source": []
  },
  {
   "cell_type": "code",
   "execution_count": 30,
   "metadata": {},
   "outputs": [],
   "source": [
    "def get_currently_available_jobs():\n",
    "    conn = sql_connection()\n",
    "    \n",
    "    select_query = f'''SELECT COUNT(company_name) as currently_available_company \n",
    "                        FROM  {table_name} WHERE easy_apply != 'None';\n",
    "                    '''\n",
    "    \n",
    "    cursor_obj = conn.cursor()\n",
    "    \n",
    "    cursor_obj.execute(select_query)\n",
    "    \n",
    "    rows = cursor_obj.fetchall()\n",
    "    \n",
    "    close_database_connection(conn)\n",
    "    \n",
    "    \n",
    "    #print data in tabular form\n",
    "    print(\"\\n\\n************** Tabular Representation ***************** \\n\\n\")\n",
    "    header_data = ['Total No. Of Company Currently Hiring ']\n",
    "    print_tier_one_analysis(header_data, rows)"
   ]
  },
  {
   "cell_type": "code",
   "execution_count": null,
   "metadata": {},
   "outputs": [],
   "source": []
  },
  {
   "cell_type": "code",
   "execution_count": 31,
   "metadata": {},
   "outputs": [
    {
     "name": "stdout",
     "output_type": "stream",
     "text": [
      "Connection is established !!\n",
      "Database connection closed!\n",
      "\n",
      "\n",
      "************** Tabular Representation ***************** \n",
      "\n",
      "\n",
      "-------------------------------------------------- \n",
      "\n",
      "Total No. Of Company Currently Hiring \n",
      "-------------------------------------------------- \n",
      "\n",
      "80                       \n"
     ]
    }
   ],
   "source": [
    "get_currently_available_jobs()"
   ]
  },
  {
   "cell_type": "code",
   "execution_count": null,
   "metadata": {},
   "outputs": [],
   "source": []
  },
  {
   "cell_type": "markdown",
   "metadata": {},
   "source": [
    "### Average salary for Data analyst jobs in USA"
   ]
  },
  {
   "cell_type": "code",
   "execution_count": null,
   "metadata": {},
   "outputs": [],
   "source": []
  },
  {
   "cell_type": "code",
   "execution_count": 32,
   "metadata": {},
   "outputs": [],
   "source": [
    "def get_average_salary():\n",
    "    conn = sql_connection()\n",
    "    \n",
    "    select_query = f'''SELECT  ROUND((avg(max_salary) + avg(min_salary)) / 2, 2) as average_salary \n",
    "                        FROM {table_name};\n",
    "                    '''\n",
    "    \n",
    "    cursor_obj = conn.cursor()\n",
    "    \n",
    "    cursor_obj.execute(select_query)\n",
    "    \n",
    "    rows = cursor_obj.fetchall()\n",
    "    \n",
    "    close_database_connection(conn)\n",
    "    \n",
    "    \n",
    "    #print data in tabular form\n",
    "    print(\"\\n\\n************** Tabular Representation ***************** \\n\\n\")\n",
    "    header_data = ['Average Salary For Analyst Job (In USD) Annually']\n",
    "    print_tier_one_analysis(header_data, rows)\n",
    " "
   ]
  },
  {
   "cell_type": "code",
   "execution_count": null,
   "metadata": {},
   "outputs": [],
   "source": []
  },
  {
   "cell_type": "code",
   "execution_count": 33,
   "metadata": {},
   "outputs": [
    {
     "name": "stdout",
     "output_type": "stream",
     "text": [
      "Connection is established !!\n",
      "Database connection closed!\n",
      "\n",
      "\n",
      "************** Tabular Representation ***************** \n",
      "\n",
      "\n",
      "-------------------------------------------------- \n",
      "\n",
      "Average Salary For Analyst Job (In USD) Annually\n",
      "-------------------------------------------------- \n",
      "\n",
      "72106.22                 \n"
     ]
    }
   ],
   "source": [
    "get_average_salary()"
   ]
  },
  {
   "cell_type": "code",
   "execution_count": null,
   "metadata": {},
   "outputs": [],
   "source": []
  },
  {
   "cell_type": "markdown",
   "metadata": {},
   "source": [
    "### Minimum Salary for Data Analyst Jobs In USA:"
   ]
  },
  {
   "cell_type": "code",
   "execution_count": null,
   "metadata": {},
   "outputs": [],
   "source": []
  },
  {
   "cell_type": "code",
   "execution_count": 34,
   "metadata": {},
   "outputs": [],
   "source": [
    "def get_min_salary():\n",
    "    conn = sql_connection()\n",
    "    \n",
    "    select_query = f'''SELECT min(min_salary) as min_salary \n",
    "                        FROM {table_name};\n",
    "                    '''\n",
    "    \n",
    "    cursor_obj = conn.cursor()\n",
    "    \n",
    "    cursor_obj.execute(select_query)\n",
    "    \n",
    "    rows = cursor_obj.fetchall()\n",
    "    \n",
    "    close_database_connection(conn)\n",
    "    \n",
    "    \n",
    "    #print data in tabular form\n",
    "    print(\"\\n\\n************** Tabular Representation ***************** \\n\\n\")\n",
    "    header_data = ['Minimum Salary For Analyst Job (In USD) Annually']\n",
    "    print_tier_one_analysis(header_data, rows)"
   ]
  },
  {
   "cell_type": "code",
   "execution_count": null,
   "metadata": {},
   "outputs": [],
   "source": []
  },
  {
   "cell_type": "code",
   "execution_count": 35,
   "metadata": {},
   "outputs": [
    {
     "name": "stdout",
     "output_type": "stream",
     "text": [
      "Connection is established !!\n",
      "Database connection closed!\n",
      "\n",
      "\n",
      "************** Tabular Representation ***************** \n",
      "\n",
      "\n",
      "-------------------------------------------------- \n",
      "\n",
      "Minimum Salary For Analyst Job (In USD) Annually\n",
      "-------------------------------------------------- \n",
      "\n",
      "24000                    \n"
     ]
    }
   ],
   "source": [
    "get_min_salary()"
   ]
  },
  {
   "cell_type": "code",
   "execution_count": null,
   "metadata": {},
   "outputs": [],
   "source": []
  },
  {
   "cell_type": "markdown",
   "metadata": {},
   "source": [
    "### Maximum salary for Data analyst job in USA"
   ]
  },
  {
   "cell_type": "code",
   "execution_count": 37,
   "metadata": {},
   "outputs": [],
   "source": [
    "def get_max_salary():\n",
    "    conn = sql_connection()\n",
    "    \n",
    "    select_query = f'''SELECT max(max_salary) as max_salary \n",
    "                        FROM {table_name};\n",
    "                    '''\n",
    "    \n",
    "    cursor_obj = conn.cursor()\n",
    "    \n",
    "    cursor_obj.execute(select_query)\n",
    "    \n",
    "    rows = cursor_obj.fetchall()\n",
    "    \n",
    "    close_database_connection(conn)\n",
    "    \n",
    "    \n",
    "    #print data in tabular form\n",
    "    print(\"\\n\\n************** Tabular Representation ***************** \\n\\n\")\n",
    "    header_data = ['Maximum Salary For Analyst Job (In USD) Annually']\n",
    "    print_tier_one_analysis(header_data, rows)"
   ]
  },
  {
   "cell_type": "code",
   "execution_count": null,
   "metadata": {},
   "outputs": [],
   "source": []
  },
  {
   "cell_type": "code",
   "execution_count": 38,
   "metadata": {},
   "outputs": [
    {
     "name": "stdout",
     "output_type": "stream",
     "text": [
      "Connection is established !!\n",
      "Database connection closed!\n",
      "\n",
      "\n",
      "************** Tabular Representation ***************** \n",
      "\n",
      "\n",
      "-------------------------------------------------- \n",
      "\n",
      "Maximum Salary For Analyst Job (In USD) Annually\n",
      "-------------------------------------------------- \n",
      "\n",
      "190000                   \n"
     ]
    }
   ],
   "source": [
    "get_max_salary()"
   ]
  },
  {
   "cell_type": "code",
   "execution_count": null,
   "metadata": {},
   "outputs": [],
   "source": []
  },
  {
   "cell_type": "markdown",
   "metadata": {},
   "source": [
    "# Tier 2 Analysis"
   ]
  },
  {
   "cell_type": "markdown",
   "metadata": {},
   "source": [
    "## Min and Max salary by job title Data Analyst"
   ]
  },
  {
   "cell_type": "code",
   "execution_count": null,
   "metadata": {},
   "outputs": [],
   "source": []
  },
  {
   "cell_type": "code",
   "execution_count": 39,
   "metadata": {},
   "outputs": [],
   "source": [
    "def get_min_max_salary_by_job_title():\n",
    "    conn = sql_connection()\n",
    "    \n",
    "    select_query = f'''SELECT job_title, min_salary, max_salary, location_city\n",
    "                        FROM {table_name} \n",
    "                        WHERE job_title LIKE '% Data Analyst %' AND location_state = 'CA'\n",
    "                        GROUP BY job_title\n",
    "                        ORDER BY location_city ASC\n",
    "                        LIMIT 15;'''\n",
    "    \n",
    "    cursor_obj = conn.cursor()\n",
    "    \n",
    "    cursor_obj.execute(select_query)\n",
    "    \n",
    "    rows = cursor_obj.fetchall()\n",
    "    \n",
    "    close_database_connection(conn)\n",
    "    \n",
    "    #print data in tabular form\n",
    "    print(\"\\n\\n************** Tabular Representation ***************** \\n\\n\")\n",
    "    header_data = ['Job Title', 'Min Salary','Max Salary','City']\n",
    "    print_data_for_tier_two_analysis(header_data, rows)\n",
    "    \n",
    "   \n",
    "    job_title = 0\n",
    "    min_salary = 1\n",
    "    max_salary = 2\n",
    "   \n",
    "    \n",
    "    #set point for graph to draw graph for the above table\n",
    "     \n",
    "    title = \"Min & Max Salary by Job Title\"\n",
    "    x_label = \"Jobs Title\"\n",
    "    y_label = \"Salary (IN USD )\"\n",
    "    legend_text_arr = ['Min Salary', 'Max Salary']\n",
    "    \n",
    "    print(\"\\n\\n***************** Graph Representation ********************* \\n\\n\")\n",
    "    set_points_for_graph(rows,job_title, min_salary, title, x_label, y_label, title,max_salary, legend_text_arr)\n",
    "    "
   ]
  },
  {
   "cell_type": "code",
   "execution_count": null,
   "metadata": {},
   "outputs": [],
   "source": []
  },
  {
   "cell_type": "code",
   "execution_count": 40,
   "metadata": {},
   "outputs": [
    {
     "name": "stdout",
     "output_type": "stream",
     "text": [
      "Connection is established !!\n",
      "Database connection closed!\n",
      "\n",
      "\n",
      "************** Tabular Representation ***************** \n",
      "\n",
      "\n",
      "------------------------------------------------------------------------------------------------------------------------ \n",
      "\n",
      "Job Title                \t Min Salary               \t Max Salary               \t City                     \t \n",
      "\n",
      "------------------------------------------------------------------------------------------------------------------------\n",
      "\n",
      "\n",
      "Radar Telemetry Data Analyst - RT\t113000                        \t132000                        \tAnaheim                       \t\n",
      "\n",
      "German Speaking Data Analyst J\t58000                         \t93000                         \tCupertino                     \t\n",
      "\n",
      "Systems and Data Analyst - SQL\t42000                         \t66000                         \tDuarte                        \t\n",
      "\n",
      "Jr. Data Analyst (Jr. DA)     \t42000                         \t66000                         \tGlendale                      \t\n",
      "\n",
      "Sr. Data Analyst (Pharmacy)   \t113000                        \t132000                        \tLong Beach                    \t\n",
      "\n",
      "Senior Customer Data Analyst : 20\t35000                         \t45000                         \tLos Angeles                   \t\n",
      "\n",
      "Senior Data Analyst - User Growth\t35000                         \t45000                         \tLos Angeles                   \t\n",
      "\n",
      "Sr Data Analyst (DW)          \t42000                         \t66000                         \tLos Angeles                   \t\n",
      "\n",
      "Sr. Data Analyst — US Safety  \t113000                        \t132000                        \tLos Angeles                   \t\n",
      "\n",
      "Research & Data Analyst Lead  \t69000                         \t127000                        \tLos Gatos                     \t\n",
      "\n",
      "Senior Data Analyst - Studio Finance Engineering\t89000                         \t151000                        \tLos Gatos                     \t\n",
      "\n",
      "Senior Data Analyst Studio Finance Engineering\t110000                        \t190000                        \tLos Gatos                     \t\n",
      "\n",
      "Business Analyst / Data Analyst with Financial Industry Experience\t42000                         \t66000                         \tMonterey Park                 \t\n",
      "\n",
      "HR Data Analyst (Workday EIB) \t69000                         \t127000                        \tMountain View                 \t\n",
      "\n",
      "Senior Data Analyst (Remote OK)\t51000                         \t93000                         \tMountain View                 \t\n",
      "\n",
      "\n",
      "\n",
      "***************** Graph Representation ********************* \n",
      "\n",
      "\n"
     ]
    },
    {
     "data": {
      "image/png": "[encoded data removed]",
      "text/plain": [
       "<Figure size 1440x720 with 1 Axes>"
      ]
     },
     "metadata": {
      "needs_background": "light"
     },
     "output_type": "display_data"
    }
   ],
   "source": [
    "get_min_max_salary_by_job_title()"
   ]
  },
  {
   "cell_type": "code",
   "execution_count": null,
   "metadata": {},
   "outputs": [],
   "source": []
  },
  {
   "cell_type": "markdown",
   "metadata": {},
   "source": [
    "## Top companies By Rating For Data Analyst Job"
   ]
  },
  {
   "cell_type": "code",
   "execution_count": null,
   "metadata": {},
   "outputs": [],
   "source": []
  },
  {
   "cell_type": "code",
   "execution_count": 41,
   "metadata": {},
   "outputs": [],
   "source": [
    "def get_company_by_rating():\n",
    "    conn = sql_connection()\n",
    "    \n",
    "    select_query = f'''SELECT company_name, rating,location_city, location_state\n",
    "                        FROM {table_name}  \n",
    "                        WHERE job_title LIKE 'Data Analyst%' AND rating != 'None'\n",
    "                        GROUP By rating ORDER BY rating DESC\n",
    "                        LIMIT 15;'''\n",
    "    \n",
    "    cursor_obj = conn.cursor()\n",
    "    \n",
    "    cursor_obj.execute(select_query)\n",
    "    \n",
    "    rows = cursor_obj.fetchall()\n",
    "    \n",
    "    close_database_connection(conn)\n",
    "    \n",
    "    #print data in tabular form\n",
    "    print(\"\\n\\n************** Tabular Representation ***************** \\n\\n\")\n",
    "    header_data = ['Company Name', 'Rating', 'City', 'State']\n",
    "    print_data_for_tier_two_analysis(header_data, rows)\n",
    "    \n",
    "   \n",
    "    company_name = 0\n",
    "    rating = 1\n",
    "    legend_text_arr = ['Ratings']\n",
    "   \n",
    "    \n",
    "    #set point for graph to draw graph for the above table\n",
    "     \n",
    "    title = \"Companies By Top Rating For Data Analyst Job\"\n",
    "    x_label = \"Company Name\"\n",
    "    y_label = \"Rating\"\n",
    "    \n",
    "    print(\"\\n\\n***************** Graph Representation ********************* \\n\\n\")\n",
    "    set_points_for_graph(rows,company_name, rating, title, x_label, y_label, title, None, legend_text_arr)\n",
    "    "
   ]
  },
  {
   "cell_type": "code",
   "execution_count": null,
   "metadata": {},
   "outputs": [],
   "source": []
  },
  {
   "cell_type": "code",
   "execution_count": 42,
   "metadata": {},
   "outputs": [
    {
     "name": "stdout",
     "output_type": "stream",
     "text": [
      "Connection is established !!\n",
      "Database connection closed!\n",
      "\n",
      "\n",
      "************** Tabular Representation ***************** \n",
      "\n",
      "\n",
      "------------------------------------------------------------------------------------------------------------------------ \n",
      "\n",
      "Company Name             \t Rating                   \t City                     \t State                    \t \n",
      "\n",
      "------------------------------------------------------------------------------------------------------------------------\n",
      "\n",
      "\n",
      "Whip Media Group              \t5.0                           \tNew York                      \tNY                            \t\n",
      "\n",
      "Teachers Pay Teachers         \t4.9                           \tNew York                      \tNY                            \t\n",
      "\n",
      "Ro                            \t4.8                           \tNew York                      \tNY                            \t\n",
      "\n",
      "BlueLabs                      \t4.7                           \tNew York                      \tNY                            \t\n",
      "\n",
      "The Trevor Project            \t4.6                           \tNew York                      \tNY                            \t\n",
      "\n",
      "Vimerse                       \t4.5                           \tSalt Lake City                \tUT                            \t\n",
      "\n",
      "Riskified                     \t4.4                           \tNew York                      \tNY                            \t\n",
      "\n",
      "Quad Consultancy              \t4.3                           \tMount Vernon                  \tNY                            \t\n",
      "\n",
      "Precision technologies corp   \t4.2                           \tNew York                      \tNY                            \t\n",
      "\n",
      "Celerity                      \t4.1                           \tNew York                      \tNY                            \t\n",
      "\n",
      "DMGT                          \t4.0                           \tNew York                      \tNY                            \t\n",
      "\n",
      "Point72                       \t3.9                           \tNew York                      \tNY                            \t\n",
      "\n",
      "Undertone                     \t3.8                           \tNew York                      \tNY                            \t\n",
      "\n",
      "Montefiore Medical            \t3.7                           \tNew York                      \tNY                            \t\n",
      "\n",
      "Revel                         \t3.6                           \tBrooklyn                      \tNY                            \t\n",
      "\n",
      "\n",
      "\n",
      "***************** Graph Representation ********************* \n",
      "\n",
      "\n"
     ]
    },
    {
     "data": {
      "image/png": "[encoded data removed]",
      "text/plain": [
       "<Figure size 1440x720 with 1 Axes>"
      ]
     },
     "metadata": {
      "needs_background": "light"
     },
     "output_type": "display_data"
    }
   ],
   "source": [
    "get_company_by_rating()"
   ]
  },
  {
   "cell_type": "code",
   "execution_count": null,
   "metadata": {},
   "outputs": [],
   "source": []
  },
  {
   "cell_type": "markdown",
   "metadata": {},
   "source": [
    "## Cities In CA with Min and Max Salary for Data Analyst Job"
   ]
  },
  {
   "cell_type": "code",
   "execution_count": null,
   "metadata": {},
   "outputs": [],
   "source": []
  },
  {
   "cell_type": "code",
   "execution_count": 43,
   "metadata": {},
   "outputs": [],
   "source": [
    "def get_cities_min_max_salary():\n",
    "    conn = sql_connection()\n",
    "    \n",
    "    select_query = f'''SELECT location_city,min_salary,max_salary,location_state\n",
    "                        FROM dataAnalystJob  \n",
    "                        WHERE location_State = 'CA'\n",
    "                        GROUP BY location_city\n",
    "                        ORDER BY location_city DESC\n",
    "                        LIMIT 15;'''\n",
    "    \n",
    "    cursor_obj = conn.cursor()\n",
    "    \n",
    "    cursor_obj.execute(select_query)\n",
    "    \n",
    "    rows = cursor_obj.fetchall()\n",
    "    \n",
    "    close_database_connection(conn)\n",
    "    \n",
    "    #print data in tabular form\n",
    "    print(\"\\n\\n************** Tabular Representation ***************** \\n\\n\")\n",
    "    header_data = ['City','Min Salary','Max Salary','State']\n",
    "    print_data_for_tier_two_analysis(header_data, rows)\n",
    "    \n",
    "   \n",
    "    city = 0\n",
    "    min_salary = 1\n",
    "    max_salary = 2\n",
    "    \n",
    "   \n",
    "    \n",
    "    #set point for graph to draw graph for the above table\n",
    "     \n",
    "    title = \"Cities In CA with Min & Max Salary For Data Analyst Jobs\"\n",
    "    x_label = \"City Name\"\n",
    "    y_label = \"Salary In USD\"\n",
    "    legend_text_arr = ['Min Salary', 'Max Salary']\n",
    "    \n",
    "    print(\"\\n\\n***************** Graph Representation ********************* \\n\\n\")\n",
    "    set_points_for_graph(rows,city, min_salary, title, x_label, y_label, title,max_salary, legend_text_arr)\n",
    "    "
   ]
  },
  {
   "cell_type": "code",
   "execution_count": null,
   "metadata": {},
   "outputs": [],
   "source": []
  },
  {
   "cell_type": "code",
   "execution_count": 44,
   "metadata": {},
   "outputs": [
    {
     "name": "stdout",
     "output_type": "stream",
     "text": [
      "Connection is established !!\n",
      "Database connection closed!\n",
      "\n",
      "\n",
      "************** Tabular Representation ***************** \n",
      "\n",
      "\n",
      "------------------------------------------------------------------------------------------------------------------------ \n",
      "\n",
      "City                     \t Min Salary               \t Max Salary               \t State                    \t \n",
      "\n",
      "------------------------------------------------------------------------------------------------------------------------\n",
      "\n",
      "\n",
      "Woodland Hills                \t42000                         \t66000                         \tCA                            \t\n",
      "\n",
      "Whittier                      \t113000                        \t132000                        \tCA                            \t\n",
      "\n",
      "Walnut Creek                  \t47000                         \t74000                         \tCA                            \t\n",
      "\n",
      "Visalia                       \t47000                         \t81000                         \tCA                            \t\n",
      "\n",
      "Venice                        \t37000                         \t70000                         \tCA                            \t\n",
      "\n",
      "Union City                    \t51000                         \t93000                         \tCA                            \t\n",
      "\n",
      "Torrance                      \t42000                         \t66000                         \tCA                            \t\n",
      "\n",
      "Sunnyvale                     \t110000                        \t190000                        \tCA                            \t\n",
      "\n",
      "Stanford                      \t69000                         \t127000                        \tCA                            \t\n",
      "\n",
      "South San Francisco           \t93000                         \t159000                        \tCA                            \t\n",
      "\n",
      "Signal Hill                   \t65000                         \t81000                         \tCA                            \t\n",
      "\n",
      "Santa Monica                  \t55000                         \t103000                        \tCA                            \t\n",
      "\n",
      "Santa Clara                   \t110000                        \t190000                        \tCA                            \t\n",
      "\n",
      "San Ramon                     \t65000                         \t120000                        \tCA                            \t\n",
      "\n",
      "San Rafael                    \t57000                         \t104000                        \tCA                            \t\n",
      "\n",
      "\n",
      "\n",
      "***************** Graph Representation ********************* \n",
      "\n",
      "\n"
     ]
    },
    {
     "data": {
      "image/png": "[encoded data removed]",
      "text/plain": [
       "<Figure size 1440x720 with 1 Axes>"
      ]
     },
     "metadata": {
      "needs_background": "light"
     },
     "output_type": "display_data"
    }
   ],
   "source": [
    "get_cities_min_max_salary()"
   ]
  },
  {
   "cell_type": "code",
   "execution_count": null,
   "metadata": {},
   "outputs": [],
   "source": []
  },
  {
   "cell_type": "markdown",
   "metadata": {},
   "source": [
    "## Companies Min and Max Salary By States"
   ]
  },
  {
   "cell_type": "code",
   "execution_count": null,
   "metadata": {},
   "outputs": [],
   "source": []
  },
  {
   "cell_type": "code",
   "execution_count": 45,
   "metadata": {},
   "outputs": [],
   "source": [
    "def get_companies_min_max_salary_rating():\n",
    "    conn = sql_connection()\n",
    "    \n",
    "    select_query = f'''SELECT company_name ||', '|| location_state, min_salary,max_salary \n",
    "                        FROM {table_name} WHERE rating != 'None'\n",
    "                        GROUP By location_state ORDER BY rating DESC\n",
    "                        LIMIT 10 OFFSET 5;'''\n",
    "    \n",
    "    cursor_obj = conn.cursor()\n",
    "    \n",
    "    cursor_obj.execute(select_query)\n",
    "    \n",
    "    rows = cursor_obj.fetchall()\n",
    "    \n",
    "    close_database_connection(conn)\n",
    "    \n",
    "    \n",
    "    #print data in tabular form\n",
    "    print(\"\\n\\n************** Tabular Representation ***************** \\n\\n\")\n",
    "    header_data = ['Company Name, States', 'Min Salary', 'Max Salary']\n",
    "    print_data_for_tier_two_analysis(header_data, rows)\n",
    "    \n",
    "    #set point for graph to draw graph for the above table\n",
    "    company_name = 0\n",
    "    min_salary = 1\n",
    "    max_salary = 2\n",
    "    \n",
    "    title = \" Companies with their Min and Max Salary By States \"\n",
    "    x_label = \"Company Name and State\"\n",
    "    y_label = \"Salary (IN USD )\"\n",
    "    legend_text_arr = ['Min Salary', 'Max Salary']\n",
    "    \n",
    "    print(\"\\n\\n***************** Graph Representation ********************* \\n\\n\")\n",
    "    set_points_for_graph(rows,company_name, min_salary, title, x_label, y_label, title,max_salary, legend_text_arr)\n"
   ]
  },
  {
   "cell_type": "code",
   "execution_count": null,
   "metadata": {},
   "outputs": [],
   "source": []
  },
  {
   "cell_type": "code",
   "execution_count": 46,
   "metadata": {},
   "outputs": [
    {
     "name": "stdout",
     "output_type": "stream",
     "text": [
      "Connection is established !!\n",
      "Database connection closed!\n",
      "\n",
      "\n",
      "************** Tabular Representation ***************** \n",
      "\n",
      "\n",
      "------------------------------------------------------------------------------------------------------------------------ \n",
      "\n",
      "Company Name, States     \t Min Salary               \t Max Salary               \t \n",
      "\n",
      "------------------------------------------------------------------------------------------------------------------------\n",
      "\n",
      "\n",
      "N.F. Smith & Associates, TX   \t29000                         \t38000                         \t\n",
      "\n",
      "Mondo, DE                     \t41000                         \t78000                         \t\n",
      "\n",
      "Wintrust Financial, IL        \t60000                         \t66000                         \t\n",
      "\n",
      "CoreSite, CO                  \t57000                         \t67000                         \t\n",
      "\n",
      "Focal Systems, KS             \t36000                         \t67000                         \t\n",
      "\n",
      "Wells Fargo, NC               \t50000                         \t86000                         \t\n",
      "\n",
      "Greenphire, PA                \t41000                         \t78000                         \t\n",
      "\n",
      "Robert Half, CA               \t47000                         \t81000                         \t\n",
      "\n",
      "Advisor Group, NJ             \t37000                         \t66000                         \t\n",
      "\n",
      "Lionbridge, WA                \t35000                         \t67000                         \t\n",
      "\n",
      "\n",
      "\n",
      "***************** Graph Representation ********************* \n",
      "\n",
      "\n"
     ]
    },
    {
     "data": {
      "image/png": "[encoded data removed]",
      "text/plain": [
       "<Figure size 1440x720 with 1 Axes>"
      ]
     },
     "metadata": {
      "needs_background": "light"
     },
     "output_type": "display_data"
    }
   ],
   "source": [
    "get_companies_min_max_salary_rating()"
   ]
  },
  {
   "cell_type": "code",
   "execution_count": null,
   "metadata": {},
   "outputs": [],
   "source": []
  },
  {
   "cell_type": "markdown",
   "metadata": {},
   "source": [
    "# Tier 3 Analysis"
   ]
  },
  {
   "cell_type": "code",
   "execution_count": null,
   "metadata": {},
   "outputs": [],
   "source": []
  },
  {
   "cell_type": "markdown",
   "metadata": {},
   "source": [
    "## This analysis will show that is there is any relation b/w the ratings and the salary given to the data analyst\n",
    "        You can see that salary is not directly  proportional to ratings of the company"
   ]
  },
  {
   "cell_type": "code",
   "execution_count": null,
   "metadata": {},
   "outputs": [],
   "source": []
  },
  {
   "cell_type": "code",
   "execution_count": 47,
   "metadata": {},
   "outputs": [],
   "source": [
    "def get_max_salary_by_rating_and_company_count():\n",
    "    conn = sql_connection()\n",
    "    \n",
    "    select_query = f'''SELECT cast(rating as int) || ' and '|| count(company_name) as rating_and_count,max_salary\n",
    "                FROM {table_name} \n",
    "                WHERE rating != 'None'\n",
    "                GROUP By cast(rating as int);'''\n",
    "    \n",
    "    \n",
    "   \n",
    "    cursor_obj = conn.cursor()\n",
    "    \n",
    "    cursor_obj.execute(select_query)\n",
    "    \n",
    "    rows = cursor_obj.fetchall()\n",
    "    \n",
    "    close_database_connection(conn)\n",
    "    \n",
    "    \n",
    "    #print data in tabular form\n",
    "    print(\"\\n\\n************** Tabular Representation ***************** \\n\\n\")\n",
    "    header_data = ['Rating & Company Count', 'Max Salary']\n",
    "    print_data_for_tier_two_analysis(header_data, rows)\n",
    "    \n",
    "    #set point for graph to draw graph for the above table\n",
    "    #rating = 0\n",
    "    company_count = 0\n",
    "    max_salary = 1\n",
    "    \n",
    "    title = \" Relation between Ratings and Salary\"\n",
    "    x_label = \"Ratings & Company Count\"\n",
    "    y_label = \"Max Salary (IN USD )\"\n",
    "    legend_text_arr = ['Max Salary']\n",
    "    \n",
    "    print(\"\\n\\n***************** Graph Representation ********************* \\n\\n\")\n",
    "    set_points_for_graph(rows,company_count, max_salary, title, x_label, y_label, title, None, legend_text_arr)\n"
   ]
  },
  {
   "cell_type": "code",
   "execution_count": null,
   "metadata": {},
   "outputs": [],
   "source": []
  },
  {
   "cell_type": "code",
   "execution_count": 48,
   "metadata": {},
   "outputs": [
    {
     "name": "stdout",
     "output_type": "stream",
     "text": [
      "Connection is established !!\n",
      "Database connection closed!\n",
      "\n",
      "\n",
      "************** Tabular Representation ***************** \n",
      "\n",
      "\n",
      "------------------------------------------------------------------------------------------------------------------------ \n",
      "\n",
      "   Rating & Company Count\t                Max Salary\t \n",
      "\n",
      "------------------------------------------------------------------------------------------------------------------------\n",
      "\n",
      "\n",
      "                      1 and 18\t                         88000\t\n",
      "\n",
      "                     2 and 186\t                         87000\t\n",
      "\n",
      "                    3 and 1086\t                         66000\t\n",
      "\n",
      "                     4 and 558\t                         66000\t\n",
      "\n",
      "                     5 and 131\t                         66000\t\n",
      "\n",
      "\n",
      "\n",
      "***************** Graph Representation ********************* \n",
      "\n",
      "\n"
     ]
    },
    {
     "data": {
      "image/png": "[encoded data removed]",
      "text/plain": [
       "<Figure size 1440x720 with 1 Axes>"
      ]
     },
     "metadata": {
      "needs_background": "light"
     },
     "output_type": "display_data"
    }
   ],
   "source": [
    "get_max_salary_by_rating_and_company_count()"
   ]
  },
  {
   "cell_type": "code",
   "execution_count": null,
   "metadata": {},
   "outputs": [],
   "source": []
  },
  {
   "cell_type": "markdown",
   "metadata": {},
   "source": [
    "## Is there any realtion b/w the size of the compnay and the average  salary of the data analyst?\n",
    "        As we can see the company size is not directly proportional to the average salary of the data analyst."
   ]
  },
  {
   "cell_type": "code",
   "execution_count": null,
   "metadata": {},
   "outputs": [],
   "source": []
  },
  {
   "cell_type": "code",
   "execution_count": 49,
   "metadata": {},
   "outputs": [],
   "source": [
    "def get_avg_salary_by_size_and_company_count():\n",
    "    conn = sql_connection()\n",
    "    \n",
    "    select_query = f'''SELECT size || ' and '|| count(company_name) as size_and_count,\n",
    "                    Round((avg( max_salary) + avg( min_salary))/2,0) as average_salary\n",
    "                    FROM {table_name} \n",
    "                    WHERE size != 'None'\n",
    "                    GROUP By size;'''\n",
    "    \n",
    "    \n",
    "   \n",
    "    cursor_obj = conn.cursor()\n",
    "    \n",
    "    cursor_obj.execute(select_query)\n",
    "    \n",
    "    rows = cursor_obj.fetchall()\n",
    "    \n",
    "    close_database_connection(conn)\n",
    "    \n",
    "    \n",
    "    #print data in tabular form\n",
    "    print(\"\\n\\n************** Tabular Representation ***************** \\n\\n\")\n",
    "    header_data = ['Size  & Company Count', 'Avg Salary']\n",
    "    print_data_for_tier_two_analysis(header_data, rows)\n",
    "    \n",
    "    #set point for graph to draw graph for the above table\n",
    "    #rating = 0\n",
    "    size = 0\n",
    "    avg_salary = 1\n",
    "    \n",
    "    title = \" Relation between Company Size and Average Salary \"\n",
    "    x_label = \"Size & Company Count\"\n",
    "    y_label = \"Avg Salary (IN USD )\"\n",
    "    legend_text_arr = ['Avg Salary']\n",
    "    \n",
    "    print(\"\\n\\n***************** Graph Representation ********************* \\n\\n\")\n",
    "    set_points_for_graph(rows,size, avg_salary, title, x_label, y_label, title, None, legend_text_arr)"
   ]
  },
  {
   "cell_type": "code",
   "execution_count": null,
   "metadata": {},
   "outputs": [],
   "source": []
  },
  {
   "cell_type": "code",
   "execution_count": 50,
   "metadata": {},
   "outputs": [
    {
     "name": "stdout",
     "output_type": "stream",
     "text": [
      "Connection is established !!\n",
      "Database connection closed!\n",
      "\n",
      "\n",
      "************** Tabular Representation ***************** \n",
      "\n",
      "\n",
      "------------------------------------------------------------------------------------------------------------------------ \n",
      "\n",
      "    Size  & Company Count\t                Avg Salary\t \n",
      "\n",
      "------------------------------------------------------------------------------------------------------------------------\n",
      "\n",
      "\n",
      "               1 to 50 and 347\t                       72712.0\t\n",
      "\n",
      "                10000+ and 374\t                       69901.0\t\n",
      "\n",
      "          1001 to 5000 and 348\t                       72869.0\t\n",
      "\n",
      "            201 to 500 and 248\t                       71113.0\t\n",
      "\n",
      "          5001 to 10000 and 97\t                       74201.0\t\n",
      "\n",
      "           501 to 1000 and 211\t                       71988.0\t\n",
      "\n",
      "             51 to 200 and 421\t                       72521.0\t\n",
      "\n",
      "\n",
      "\n",
      "***************** Graph Representation ********************* \n",
      "\n",
      "\n"
     ]
    },
    {
     "data": {
      "image/png": "[encoded data removed]",
      "text/plain": [
       "<Figure size 1440x720 with 1 Axes>"
      ]
     },
     "metadata": {
      "needs_background": "light"
     },
     "output_type": "display_data"
    }
   ],
   "source": [
    "get_avg_salary_by_size_and_company_count()"
   ]
  },
  {
   "cell_type": "code",
   "execution_count": null,
   "metadata": {},
   "outputs": [],
   "source": []
  }
 ],
 "metadata": {
  "kernelspec": {
   "display_name": "Python 3",
   "language": "python",
   "name": "python3"
  },
  "language_info": {
   "codemirror_mode": {
    "name": "ipython",
    "version": 3
   },
   "file_extension": ".py",
   "mimetype": "text/x-python",
   "name": "python",
   "nbconvert_exporter": "python",
   "pygments_lexer": "ipython3",
   "version": "3.8.0"
  }
 },
 "nbformat": 4,
 "nbformat_minor": 4
}
